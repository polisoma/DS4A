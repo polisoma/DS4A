{
  "nbformat": 4,
  "nbformat_minor": 0,
  "metadata": {
    "colab": {
      "name": "Amazon_bestsellers.ipynb",
      "provenance": [],
      "mount_file_id": "1hkk_qdqE9eyuZidxwXHppYlOWFBDcWsH",
      "authorship_tag": "ABX9TyOsoEhbgPMIl2SXCfQYIK41",
      "include_colab_link": true
    },
    "kernelspec": {
      "name": "python3",
      "display_name": "Python 3"
    },
    "language_info": {
      "name": "python"
    }
  },
  "cells": [
    {
      "cell_type": "markdown",
      "metadata": {
        "id": "view-in-github",
        "colab_type": "text"
      },
      "source": [
        "<a href=\"https://colab.research.google.com/github/polisoma/DS4A/blob/master/Amazon_bestsellers.ipynb\" target=\"_parent\"><img src=\"https://colab.research.google.com/assets/colab-badge.svg\" alt=\"Open In Colab\"/></a>"
      ]
    },
    {
      "cell_type": "markdown",
      "metadata": {
        "id": "ODdK6eHGGBaU"
      },
      "source": [
        "**Getting dependancies**"
      ]
    },
    {
      "cell_type": "code",
      "metadata": {
        "colab": {
          "base_uri": "https://localhost:8080/"
        },
        "id": "iUjBJd4OFS9_",
        "outputId": "d3bb82b0-00e3-4dc6-8abf-2d9b92835626"
      },
      "source": [
        "import pandas as pd\n",
        "import numpy as np\n",
        "import missingno\n",
        "!pip install fuzzywuzzy\n",
        "!pip install python-Levenshtein\n",
        "import fuzzywuzzy\n",
        "from fuzzywuzzy import process\n",
        "import collections\n",
        "import matplotlib.pyplot as plt\n",
        "from plotly.subplots import make_subplots\n",
        "import plotly.graph_objects as go\n",
        "import plotly.figure_factory as ff\n",
        "from scipy.stats import shapiro\n",
        "from scipy.stats import mannwhitneyu"
      ],
      "execution_count": 1,
      "outputs": [
        {
          "output_type": "stream",
          "text": [
            "Collecting fuzzywuzzy\n",
            "  Downloading https://files.pythonhosted.org/packages/43/ff/74f23998ad2f93b945c0309f825be92e04e0348e062026998b5eefef4c33/fuzzywuzzy-0.18.0-py2.py3-none-any.whl\n",
            "Installing collected packages: fuzzywuzzy\n",
            "Successfully installed fuzzywuzzy-0.18.0\n",
            "Collecting python-Levenshtein\n",
            "\u001b[?25l  Downloading https://files.pythonhosted.org/packages/2a/dc/97f2b63ef0fa1fd78dcb7195aca577804f6b2b51e712516cc0e902a9a201/python-Levenshtein-0.12.2.tar.gz (50kB)\n",
            "\u001b[K     |████████████████████████████████| 51kB 2.6MB/s \n",
            "\u001b[?25hRequirement already satisfied: setuptools in /usr/local/lib/python3.7/dist-packages (from python-Levenshtein) (56.0.0)\n",
            "Building wheels for collected packages: python-Levenshtein\n",
            "  Building wheel for python-Levenshtein (setup.py) ... \u001b[?25l\u001b[?25hdone\n",
            "  Created wheel for python-Levenshtein: filename=python_Levenshtein-0.12.2-cp37-cp37m-linux_x86_64.whl size=149804 sha256=a1f9e3fc4c312c64db65dcdbafa4e6f12e4a333894a2f59a8416e6c35d7dcf45\n",
            "  Stored in directory: /root/.cache/pip/wheels/b3/26/73/4b48503bac73f01cf18e52cd250947049a7f339e940c5df8fc\n",
            "Successfully built python-Levenshtein\n",
            "Installing collected packages: python-Levenshtein\n",
            "Successfully installed python-Levenshtein-0.12.2\n"
          ],
          "name": "stdout"
        }
      ]
    },
    {
      "cell_type": "code",
      "metadata": {
        "colab": {
          "base_uri": "https://localhost:8080/",
          "height": 204
        },
        "id": "YinPpCtzGVVo",
        "outputId": "c0cdc5bf-737b-441d-bc16-8d39926147b8"
      },
      "source": [
        "bestsellers=pd.read_csv('/content/drive/MyDrive/bestsellers with categories.csv')\n",
        "bestsellers.head()"
      ],
      "execution_count": 2,
      "outputs": [
        {
          "output_type": "execute_result",
          "data": {
            "text/html": [
              "<div>\n",
              "<style scoped>\n",
              "    .dataframe tbody tr th:only-of-type {\n",
              "        vertical-align: middle;\n",
              "    }\n",
              "\n",
              "    .dataframe tbody tr th {\n",
              "        vertical-align: top;\n",
              "    }\n",
              "\n",
              "    .dataframe thead th {\n",
              "        text-align: right;\n",
              "    }\n",
              "</style>\n",
              "<table border=\"1\" class=\"dataframe\">\n",
              "  <thead>\n",
              "    <tr style=\"text-align: right;\">\n",
              "      <th></th>\n",
              "      <th>Name</th>\n",
              "      <th>Author</th>\n",
              "      <th>User Rating</th>\n",
              "      <th>Reviews</th>\n",
              "      <th>Price</th>\n",
              "      <th>Year</th>\n",
              "      <th>Genre</th>\n",
              "    </tr>\n",
              "  </thead>\n",
              "  <tbody>\n",
              "    <tr>\n",
              "      <th>0</th>\n",
              "      <td>10-Day Green Smoothie Cleanse</td>\n",
              "      <td>JJ Smith</td>\n",
              "      <td>4.7</td>\n",
              "      <td>17350</td>\n",
              "      <td>8</td>\n",
              "      <td>2016</td>\n",
              "      <td>Non Fiction</td>\n",
              "    </tr>\n",
              "    <tr>\n",
              "      <th>1</th>\n",
              "      <td>11/22/63: A Novel</td>\n",
              "      <td>Stephen King</td>\n",
              "      <td>4.6</td>\n",
              "      <td>2052</td>\n",
              "      <td>22</td>\n",
              "      <td>2011</td>\n",
              "      <td>Fiction</td>\n",
              "    </tr>\n",
              "    <tr>\n",
              "      <th>2</th>\n",
              "      <td>12 Rules for Life: An Antidote to Chaos</td>\n",
              "      <td>Jordan B. Peterson</td>\n",
              "      <td>4.7</td>\n",
              "      <td>18979</td>\n",
              "      <td>15</td>\n",
              "      <td>2018</td>\n",
              "      <td>Non Fiction</td>\n",
              "    </tr>\n",
              "    <tr>\n",
              "      <th>3</th>\n",
              "      <td>1984 (Signet Classics)</td>\n",
              "      <td>George Orwell</td>\n",
              "      <td>4.7</td>\n",
              "      <td>21424</td>\n",
              "      <td>6</td>\n",
              "      <td>2017</td>\n",
              "      <td>Fiction</td>\n",
              "    </tr>\n",
              "    <tr>\n",
              "      <th>4</th>\n",
              "      <td>5,000 Awesome Facts (About Everything!) (Natio...</td>\n",
              "      <td>National Geographic Kids</td>\n",
              "      <td>4.8</td>\n",
              "      <td>7665</td>\n",
              "      <td>12</td>\n",
              "      <td>2019</td>\n",
              "      <td>Non Fiction</td>\n",
              "    </tr>\n",
              "  </tbody>\n",
              "</table>\n",
              "</div>"
            ],
            "text/plain": [
              "                                                Name  ...        Genre\n",
              "0                      10-Day Green Smoothie Cleanse  ...  Non Fiction\n",
              "1                                  11/22/63: A Novel  ...      Fiction\n",
              "2            12 Rules for Life: An Antidote to Chaos  ...  Non Fiction\n",
              "3                             1984 (Signet Classics)  ...      Fiction\n",
              "4  5,000 Awesome Facts (About Everything!) (Natio...  ...  Non Fiction\n",
              "\n",
              "[5 rows x 7 columns]"
            ]
          },
          "metadata": {
            "tags": []
          },
          "execution_count": 2
        }
      ]
    },
    {
      "cell_type": "markdown",
      "metadata": {
        "id": "gvUUTFykGACI"
      },
      "source": [
        "# **loading the data and the first look**\n"
      ]
    },
    {
      "cell_type": "markdown",
      "metadata": {
        "id": "HKlm3weMJtCP"
      },
      "source": [
        "f tells to interprete {} (similar to -en for echo)"
      ]
    },
    {
      "cell_type": "code",
      "metadata": {
        "colab": {
          "base_uri": "https://localhost:8080/"
        },
        "id": "Dosasyi3JV8W",
        "outputId": "c2930dab-46c6-4a21-e492-5db74d23fdbb"
      },
      "source": [
        "print(f'The table has {bestsellers.shape[0]} lines/records and {bestsellers.shape[1]} columns.')"
      ],
      "execution_count": null,
      "outputs": [
        {
          "output_type": "stream",
          "text": [
            "The table has 550 lines/records and 7 columns.\n"
          ],
          "name": "stdout"
        }
      ]
    },
    {
      "cell_type": "code",
      "metadata": {
        "colab": {
          "base_uri": "https://localhost:8080/"
        },
        "id": "IhYE4i7MJ7ZP",
        "outputId": "a34bf71d-7bf1-4b6b-afec-f52adc70564f"
      },
      "source": [
        "bestsellers.dtypes"
      ],
      "execution_count": null,
      "outputs": [
        {
          "output_type": "execute_result",
          "data": {
            "text/plain": [
              "Name            object\n",
              "Author          object\n",
              "User Rating    float64\n",
              "Reviews          int64\n",
              "Price            int64\n",
              "Year             int64\n",
              "Genre           object\n",
              "dtype: object"
            ]
          },
          "metadata": {
            "tags": []
          },
          "execution_count": 22
        }
      ]
    },
    {
      "cell_type": "markdown",
      "metadata": {
        "id": "dWsk-WjbKuwt"
      },
      "source": [
        "Changing Genre from 'object' to 'category'. Category is a hybrid data type. It looks and behaves like a string in many instances but internally is represented by an array of integers. This allows the data to be sorted in a custom order and to more efficiently store the data"
      ]
    },
    {
      "cell_type": "code",
      "metadata": {
        "colab": {
          "base_uri": "https://localhost:8080/"
        },
        "id": "53OxKweVK_r0",
        "outputId": "ff299dcc-e646-4525-a0b3-f2f72b2f9abb"
      },
      "source": [
        "bestsellers.Genre=bestsellers.Genre.astype('category')\n",
        "bestsellers.dtypes"
      ],
      "execution_count": null,
      "outputs": [
        {
          "output_type": "execute_result",
          "data": {
            "text/plain": [
              "Name             object\n",
              "Author           object\n",
              "User Rating     float64\n",
              "Reviews           int64\n",
              "Price             int64\n",
              "Year              int64\n",
              "Genre          category\n",
              "dtype: object"
            ]
          },
          "metadata": {
            "tags": []
          },
          "execution_count": 24
        }
      ]
    },
    {
      "cell_type": "markdown",
      "metadata": {
        "id": "do8Fc25rLpOY"
      },
      "source": [
        "Calculating % of missing values per column. I am not sure it shows %... COuldn't find what .1% does"
      ]
    },
    {
      "cell_type": "code",
      "metadata": {
        "colab": {
          "base_uri": "https://localhost:8080/"
        },
        "id": "htF9fjIjLs2t",
        "outputId": "0ddb3285-4645-42a6-8fd7-1bcf9ed965fa"
      },
      "source": [
        "for col in bestsellers.columns:\n",
        "  best_missing=bestsellers[col].isnull().mean()\n",
        "  print(f'{col} has {best_missing} on average and {best_missing : .1%}')"
      ],
      "execution_count": null,
      "outputs": [
        {
          "output_type": "stream",
          "text": [
            "Name has 0.0 on average and  0.0% %\n",
            "Author has 0.0 on average and  0.0% %\n",
            "User Rating has 0.0 on average and  0.0% %\n",
            "Reviews has 0.0 on average and  0.0% %\n",
            "Price has 0.0 on average and  0.0% %\n",
            "Year has 0.0 on average and  0.0% %\n",
            "Genre has 0.0 on average and  0.0% %\n"
          ],
          "name": "stdout"
        }
      ]
    },
    {
      "cell_type": "markdown",
      "metadata": {
        "id": "zDNyea0TMvNf"
      },
      "source": [
        "Really cool and fast visualization for missing values"
      ]
    },
    {
      "cell_type": "code",
      "metadata": {
        "colab": {
          "base_uri": "https://localhost:8080/",
          "height": 439
        },
        "id": "89MxpWUeMoUe",
        "outputId": "499dea91-c4a3-4e27-8c8b-d2dc80a84946"
      },
      "source": [
        "# Build a matrix of missing values\n",
        "missingno.matrix(bestsellers, fontsize = 16)\n",
        "plt.show()"
      ],
      "execution_count": null,
      "outputs": [
        {
          "output_type": "display_data",
          "data": {
            "image/png": "[encoded data removed]",
            "text/plain": [
              "<Figure size 1800x720 with 2 Axes>"
            ]
          },
          "metadata": {
            "tags": [],
            "needs_background": "light"
          }
        }
      ]
    },
    {
      "cell_type": "markdown",
      "metadata": {
        "id": "Z83Ty2YON95t"
      },
      "source": [
        "Getting misspelt values. Selecting columns not numbers"
      ]
    },
    {
      "cell_type": "code",
      "metadata": {
        "colab": {
          "base_uri": "https://localhost:8080/"
        },
        "id": "iBLX6zB0M1iB",
        "outputId": "dc9f4604-cb5c-4f5e-ca29-c1b183526a0f"
      },
      "source": [
        "col_names=list(bestsellers.select_dtypes(exclude=('float64','int64')).columns)\n",
        "print(f'Сolumns without numeric data: {\", \".join(col_names)}.')"
      ],
      "execution_count": null,
      "outputs": [
        {
          "output_type": "stream",
          "text": [
            "Сolumns without numeric data: Name, Author, Genre.\n"
          ],
          "name": "stdout"
        }
      ]
    },
    {
      "cell_type": "markdown",
      "metadata": {
        "id": "GelZ0p3D4WOe"
      },
      "source": [
        "checking duplicates"
      ]
    },
    {
      "cell_type": "code",
      "metadata": {
        "colab": {
          "base_uri": "https://localhost:8080/"
        },
        "id": "zaCjg_W14X3F",
        "outputId": "dfa3515a-a563-4515-8cee-8e538e3804a8"
      },
      "source": [
        "for col in col_names:\n",
        "  if bestsellers[col].duplicated().any() == True: \n",
        "    print (f'{col} has duplicates')\n",
        "  else: print (f'{col} has no duplicates')"
      ],
      "execution_count": null,
      "outputs": [
        {
          "output_type": "stream",
          "text": [
            "Name has duplicates\n",
            "Author has duplicates\n",
            "Genre has duplicates\n"
          ],
          "name": "stdout"
        }
      ]
    },
    {
      "cell_type": "markdown",
      "metadata": {
        "id": "QskxWkGD4xjG"
      },
      "source": [
        "getting misspelt items. What sort of typing errors? \n",
        "string.strip() - leading or trailing white spaces are removed. Python string method title() returns a copy of the string in which first characters of all the words are capitalized. Doesn't seem a robust way of finding typos..."
      ]
    },
    {
      "cell_type": "code",
      "metadata": {
        "colab": {
          "base_uri": "https://localhost:8080/"
        },
        "id": "1VyctBEe5C7j",
        "outputId": "44b24cff-c751-40d1-cc16-c34c8cab0692"
      },
      "source": [
        "for col in col_names:\n",
        "    print(f'Before {col}: {len(set(bestsellers[col]))} \\\n",
        "    After {col}: {len(set(bestsellers[col].str.title().str.strip()))}')\n",
        "\n",
        "# Correct the errors (could have done it in the cleaning/loading part)\n",
        "bestsellers.Name = bestsellers.Name.str.title().str.strip()\n",
        "\n",
        "print('\\nAfter cleaning\\n')\n",
        "for col in col_names:\n",
        "    print(f'Before {col}: {len(set(bestsellers[col]))} \\\n",
        "    After {col}: {len(set(bestsellers[col].str.title().str.strip()))}')"
      ],
      "execution_count": null,
      "outputs": [
        {
          "output_type": "stream",
          "text": [
            "Before Name: 350     After Name: 350\n",
            "Before Author: 248     After Author: 248\n",
            "Before Genre: 2     After Genre: 2\n",
            "\n",
            "After cleaning\n",
            "\n",
            "Before Name: 350     After Name: 350\n",
            "Before Author: 248     After Author: 248\n",
            "Before Genre: 2     After Genre: 2\n"
          ],
          "name": "stdout"
        }
      ]
    },
    {
      "cell_type": "markdown",
      "metadata": {
        "id": "Jw1C3Dhl8z_A"
      },
      "source": [
        "how fuzzywuzzy.process.extract works\n",
        "https://stackoverflow.com/questions/41171665/python-fuzzywuzzys-process-extract-how-does-it-work"
      ]
    },
    {
      "cell_type": "markdown",
      "metadata": {
        "id": "zR5Pj2ED9am0"
      },
      "source": [
        "token_sort_ratio: Measure of the sequences' similarity sorting the token before comparing.\n",
        "\n"
      ]
    },
    {
      "cell_type": "markdown",
      "metadata": {
        "id": "HklaDA7y992w"
      },
      "source": [
        "Ideally: getting all authors names, run fuzzywuzzy, getting 100 matches and replacing them. In for loop. "
      ]
    },
    {
      "cell_type": "code",
      "metadata": {
        "colab": {
          "base_uri": "https://localhost:8080/"
        },
        "id": "1b_ed9x17LFx",
        "outputId": "b72a1c1c-ce2c-487a-e35f-8aff63a573ac"
      },
      "source": [
        "# getting values that match George R.R. Martin\n",
        "authors = bestsellers.Author.sort_values().unique()\n",
        "matches_author_name = fuzzywuzzy.process.extract('George R.R. Martin', authors, limit=5, \\\n",
        "                                                 scorer=fuzzywuzzy.fuzz.token_sort_ratio)\n",
        "matches_author_name"
      ],
      "execution_count": null,
      "outputs": [
        {
          "output_type": "execute_result",
          "data": {
            "text/plain": [
              "[('George R. R. Martin', 100),\n",
              " ('George R.R. Martin', 100),\n",
              " ('George Orwell', 53),\n",
              " ('Bill Martin Jr.', 52),\n",
              " ('Greg Mortenson', 52)]"
            ]
          },
          "metadata": {
            "tags": []
          },
          "execution_count": 18
        }
      ]
    },
    {
      "cell_type": "code",
      "metadata": {
        "id": "IeDcuXAZ-Ga5"
      },
      "source": [
        "bestsellers = bestsellers.replace('George R. R. Martin', 'George R.R. Martin')\n",
        "bestsellers = bestsellers.replace('J. K. Rowling', 'J.K. Rowling')"
      ],
      "execution_count": 3,
      "outputs": []
    },
    {
      "cell_type": "code",
      "metadata": {
        "colab": {
          "base_uri": "https://localhost:8080/"
        },
        "id": "trPttwie-VDU",
        "outputId": "0d111964-5773-4936-bb0b-f89196660829"
      },
      "source": [
        "# Check the column Genre\n",
        "genre = bestsellers.Genre.unique()\n",
        "print('What is in Genre')\n",
        "genre\n",
        "# Check the column Year\n",
        "print('What is in Years')\n",
        "years = list(bestsellers.Year.unique())\n",
        "sorted(years)"
      ],
      "execution_count": null,
      "outputs": [
        {
          "output_type": "stream",
          "text": [
            "What is in Genre\n",
            "What is in Years\n"
          ],
          "name": "stdout"
        },
        {
          "output_type": "execute_result",
          "data": {
            "text/plain": [
              "[2009, 2010, 2011, 2012, 2013, 2014, 2015, 2016, 2017, 2018, 2019]"
            ]
          },
          "metadata": {
            "tags": []
          },
          "execution_count": 21
        }
      ]
    },
    {
      "cell_type": "markdown",
      "metadata": {
        "id": "fYcdM9l--yQc"
      },
      "source": [
        "There are duplicated lines, but only year is different. It was visible by looking at the whole dataframe. For the future: how to spot it automatically. One way to deal with it is to remove all years. "
      ]
    },
    {
      "cell_type": "code",
      "metadata": {
        "id": "Ud7pVEAp-_q0"
      },
      "source": [
        "# Delete the year column\n",
        "del bestsellers['Year']\n",
        "# another way of doing it. (0 for rows and 1 for columns.)\n",
        "# bestsellers.drop('Year', axis=1, inplace=True)\n",
        "# df = df.drop(df.columns[[0, 1, 3]], axis=1)\n",
        "# df.drop(['column_nameA', 'column_nameB'], axis=1, inplace=True)"
      ],
      "execution_count": 4,
      "outputs": []
    },
    {
      "cell_type": "code",
      "metadata": {
        "colab": {
          "base_uri": "https://localhost:8080/"
        },
        "id": "bYrlyNCR_8XI",
        "outputId": "a2389044-5639-421e-e481-f89c72478687"
      },
      "source": [
        "# dropping duplicates\n",
        "bestsellers = bestsellers.drop_duplicates(keep='first')\n",
        "bestsellers.info()"
      ],
      "execution_count": 5,
      "outputs": [
        {
          "output_type": "stream",
          "text": [
            "<class 'pandas.core.frame.DataFrame'>\n",
            "Int64Index: 361 entries, 0 to 546\n",
            "Data columns (total 6 columns):\n",
            " #   Column       Non-Null Count  Dtype  \n",
            "---  ------       --------------  -----  \n",
            " 0   Name         361 non-null    object \n",
            " 1   Author       361 non-null    object \n",
            " 2   User Rating  361 non-null    float64\n",
            " 3   Reviews      361 non-null    int64  \n",
            " 4   Price        361 non-null    int64  \n",
            " 5   Genre        361 non-null    object \n",
            "dtypes: float64(1), int64(2), object(3)\n",
            "memory usage: 19.7+ KB\n"
          ],
          "name": "stdout"
        }
      ]
    },
    {
      "cell_type": "markdown",
      "metadata": {
        "id": "zfDigVwEAyu_"
      },
      "source": [
        "we have 350 names of the books, but getting way more entries. Getting examples of multiplicated ones to further check what was wrong"
      ]
    },
    {
      "cell_type": "markdown",
      "metadata": {
        "id": "WZrq-Qo5BNAb"
      },
      "source": [
        "collections.Counter()\n",
        "A counter is a container that stores elements as dictionary keys, and their counts are stored as dictionary values."
      ]
    },
    {
      "cell_type": "code",
      "metadata": {
        "colab": {
          "base_uri": "https://localhost:8080/"
        },
        "id": "aPuPhG9BAWS_",
        "outputId": "b5836e14-5dad-48ba-f35c-9feda105145f"
      },
      "source": [
        "count_books = collections.Counter(bestsellers.Name.tolist())\n",
        "print(count_books.most_common(11)) # very nice idea to look at most common!"
      ],
      "execution_count": null,
      "outputs": [
        {
          "output_type": "stream",
          "text": [
            "[('The Help', 3), ('Gone Girl', 2), (\"Quiet: The Power Of Introverts In A World That Can'T Stop Talking\", 2), ('The 5 Love Languages: The Secret To Love That Lasts', 2), ('The 7 Habits Of Highly Effective People: Powerful Lessons In Personal Change', 2), ('The Fault In Our Stars', 2), ('The Girl On The Train', 2), ('The Immortal Life Of Henrietta Lacks', 2), ('To Kill A Mockingbird', 2), ('Unbroken: A World War Ii Story Of Survival, Resilience, And Redemption', 2), ('10-Day Green Smoothie Cleanse', 1)]\n"
          ],
          "name": "stdout"
        }
      ]
    },
    {
      "cell_type": "code",
      "metadata": {
        "colab": {
          "base_uri": "https://localhost:8080/",
          "height": 142
        },
        "id": "unOtUdQ2BPeO",
        "outputId": "94d8800c-ade4-47c2-e5a2-f096ef29e47b"
      },
      "source": [
        "bestsellers[bestsellers['Name'] == 'The Help']"
      ],
      "execution_count": null,
      "outputs": [
        {
          "output_type": "execute_result",
          "data": {
            "text/html": [
              "<div>\n",
              "<style scoped>\n",
              "    .dataframe tbody tr th:only-of-type {\n",
              "        vertical-align: middle;\n",
              "    }\n",
              "\n",
              "    .dataframe tbody tr th {\n",
              "        vertical-align: top;\n",
              "    }\n",
              "\n",
              "    .dataframe thead th {\n",
              "        text-align: right;\n",
              "    }\n",
              "</style>\n",
              "<table border=\"1\" class=\"dataframe\">\n",
              "  <thead>\n",
              "    <tr style=\"text-align: right;\">\n",
              "      <th></th>\n",
              "      <th>Name</th>\n",
              "      <th>Author</th>\n",
              "      <th>User Rating</th>\n",
              "      <th>Reviews</th>\n",
              "      <th>Price</th>\n",
              "      <th>Genre</th>\n",
              "    </tr>\n",
              "  </thead>\n",
              "  <tbody>\n",
              "    <tr>\n",
              "      <th>402</th>\n",
              "      <td>The Help</td>\n",
              "      <td>Kathryn Stockett</td>\n",
              "      <td>4.8</td>\n",
              "      <td>13871</td>\n",
              "      <td>6</td>\n",
              "      <td>Fiction</td>\n",
              "    </tr>\n",
              "    <tr>\n",
              "      <th>404</th>\n",
              "      <td>The Help</td>\n",
              "      <td>Kathryn Stockett</td>\n",
              "      <td>4.8</td>\n",
              "      <td>13871</td>\n",
              "      <td>8</td>\n",
              "      <td>Fiction</td>\n",
              "    </tr>\n",
              "    <tr>\n",
              "      <th>405</th>\n",
              "      <td>The Help</td>\n",
              "      <td>Kathryn Stockett</td>\n",
              "      <td>4.8</td>\n",
              "      <td>13871</td>\n",
              "      <td>7</td>\n",
              "      <td>Fiction</td>\n",
              "    </tr>\n",
              "  </tbody>\n",
              "</table>\n",
              "</div>"
            ],
            "text/plain": [
              "         Name            Author  User Rating  Reviews  Price    Genre\n",
              "402  The Help  Kathryn Stockett          4.8    13871      6  Fiction\n",
              "404  The Help  Kathryn Stockett          4.8    13871      8  Fiction\n",
              "405  The Help  Kathryn Stockett          4.8    13871      7  Fiction"
            ]
          },
          "metadata": {
            "tags": []
          },
          "execution_count": 28
        }
      ]
    },
    {
      "cell_type": "markdown",
      "metadata": {
        "id": "YgOdSpB7BUl7"
      },
      "source": [
        "Books had different price. Will keep only the most recent one. (we already deleted years... but keep='last')"
      ]
    },
    {
      "cell_type": "code",
      "metadata": {
        "id": "6g4XjgmDBZV6",
        "colab": {
          "base_uri": "https://localhost:8080/",
          "height": 419
        },
        "outputId": "47a3b065-ce0c-4d3f-8fde-76218b38912e"
      },
      "source": [
        "# Drop duplicates\n",
        "bestsellers = bestsellers.drop_duplicates(subset='Name', keep='last')\n",
        "bestsellers"
      ],
      "execution_count": 6,
      "outputs": [
        {
          "output_type": "execute_result",
          "data": {
            "text/html": [
              "<div>\n",
              "<style scoped>\n",
              "    .dataframe tbody tr th:only-of-type {\n",
              "        vertical-align: middle;\n",
              "    }\n",
              "\n",
              "    .dataframe tbody tr th {\n",
              "        vertical-align: top;\n",
              "    }\n",
              "\n",
              "    .dataframe thead th {\n",
              "        text-align: right;\n",
              "    }\n",
              "</style>\n",
              "<table border=\"1\" class=\"dataframe\">\n",
              "  <thead>\n",
              "    <tr style=\"text-align: right;\">\n",
              "      <th></th>\n",
              "      <th>Name</th>\n",
              "      <th>Author</th>\n",
              "      <th>User Rating</th>\n",
              "      <th>Reviews</th>\n",
              "      <th>Price</th>\n",
              "      <th>Genre</th>\n",
              "    </tr>\n",
              "  </thead>\n",
              "  <tbody>\n",
              "    <tr>\n",
              "      <th>0</th>\n",
              "      <td>10-Day Green Smoothie Cleanse</td>\n",
              "      <td>JJ Smith</td>\n",
              "      <td>4.7</td>\n",
              "      <td>17350</td>\n",
              "      <td>8</td>\n",
              "      <td>Non Fiction</td>\n",
              "    </tr>\n",
              "    <tr>\n",
              "      <th>1</th>\n",
              "      <td>11/22/63: A Novel</td>\n",
              "      <td>Stephen King</td>\n",
              "      <td>4.6</td>\n",
              "      <td>2052</td>\n",
              "      <td>22</td>\n",
              "      <td>Fiction</td>\n",
              "    </tr>\n",
              "    <tr>\n",
              "      <th>2</th>\n",
              "      <td>12 Rules for Life: An Antidote to Chaos</td>\n",
              "      <td>Jordan B. Peterson</td>\n",
              "      <td>4.7</td>\n",
              "      <td>18979</td>\n",
              "      <td>15</td>\n",
              "      <td>Non Fiction</td>\n",
              "    </tr>\n",
              "    <tr>\n",
              "      <th>3</th>\n",
              "      <td>1984 (Signet Classics)</td>\n",
              "      <td>George Orwell</td>\n",
              "      <td>4.7</td>\n",
              "      <td>21424</td>\n",
              "      <td>6</td>\n",
              "      <td>Fiction</td>\n",
              "    </tr>\n",
              "    <tr>\n",
              "      <th>4</th>\n",
              "      <td>5,000 Awesome Facts (About Everything!) (Natio...</td>\n",
              "      <td>National Geographic Kids</td>\n",
              "      <td>4.8</td>\n",
              "      <td>7665</td>\n",
              "      <td>12</td>\n",
              "      <td>Non Fiction</td>\n",
              "    </tr>\n",
              "    <tr>\n",
              "      <th>...</th>\n",
              "      <td>...</td>\n",
              "      <td>...</td>\n",
              "      <td>...</td>\n",
              "      <td>...</td>\n",
              "      <td>...</td>\n",
              "      <td>...</td>\n",
              "    </tr>\n",
              "    <tr>\n",
              "      <th>538</th>\n",
              "      <td>Winter of the World: Book Two of the Century T...</td>\n",
              "      <td>Ken Follett</td>\n",
              "      <td>4.5</td>\n",
              "      <td>10760</td>\n",
              "      <td>15</td>\n",
              "      <td>Fiction</td>\n",
              "    </tr>\n",
              "    <tr>\n",
              "      <th>539</th>\n",
              "      <td>Women Food and God: An Unexpected Path to Almo...</td>\n",
              "      <td>Geneen Roth</td>\n",
              "      <td>4.2</td>\n",
              "      <td>1302</td>\n",
              "      <td>11</td>\n",
              "      <td>Non Fiction</td>\n",
              "    </tr>\n",
              "    <tr>\n",
              "      <th>540</th>\n",
              "      <td>Wonder</td>\n",
              "      <td>R. J. Palacio</td>\n",
              "      <td>4.8</td>\n",
              "      <td>21625</td>\n",
              "      <td>9</td>\n",
              "      <td>Fiction</td>\n",
              "    </tr>\n",
              "    <tr>\n",
              "      <th>545</th>\n",
              "      <td>Wrecking Ball (Diary of a Wimpy Kid Book 14)</td>\n",
              "      <td>Jeff Kinney</td>\n",
              "      <td>4.9</td>\n",
              "      <td>9413</td>\n",
              "      <td>8</td>\n",
              "      <td>Fiction</td>\n",
              "    </tr>\n",
              "    <tr>\n",
              "      <th>546</th>\n",
              "      <td>You Are a Badass: How to Stop Doubting Your Gr...</td>\n",
              "      <td>Jen Sincero</td>\n",
              "      <td>4.7</td>\n",
              "      <td>14331</td>\n",
              "      <td>8</td>\n",
              "      <td>Non Fiction</td>\n",
              "    </tr>\n",
              "  </tbody>\n",
              "</table>\n",
              "<p>351 rows × 6 columns</p>\n",
              "</div>"
            ],
            "text/plain": [
              "                                                  Name  ...        Genre\n",
              "0                        10-Day Green Smoothie Cleanse  ...  Non Fiction\n",
              "1                                    11/22/63: A Novel  ...      Fiction\n",
              "2              12 Rules for Life: An Antidote to Chaos  ...  Non Fiction\n",
              "3                               1984 (Signet Classics)  ...      Fiction\n",
              "4    5,000 Awesome Facts (About Everything!) (Natio...  ...  Non Fiction\n",
              "..                                                 ...  ...          ...\n",
              "538  Winter of the World: Book Two of the Century T...  ...      Fiction\n",
              "539  Women Food and God: An Unexpected Path to Almo...  ...  Non Fiction\n",
              "540                                             Wonder  ...      Fiction\n",
              "545       Wrecking Ball (Diary of a Wimpy Kid Book 14)  ...      Fiction\n",
              "546  You Are a Badass: How to Stop Doubting Your Gr...  ...  Non Fiction\n",
              "\n",
              "[351 rows x 6 columns]"
            ]
          },
          "metadata": {
            "tags": []
          },
          "execution_count": 6
        }
      ]
    },
    {
      "cell_type": "code",
      "metadata": {
        "id": "v4QQCzp6wEJU"
      },
      "source": [
        "# saving a clean dataset that I can load in the future\n",
        "from google.colab import files\n",
        "bestsellers.to_csv('/content/drive/MyDrive/bestsellers_clean.csv') \n",
        "#files.download('filename.csv')"
      ],
      "execution_count": 10,
      "outputs": []
    },
    {
      "cell_type": "markdown",
      "metadata": {
        "id": "d_HlyjhVBkW7"
      },
      "source": [
        "**CONCLUSION: 350 different books by 246 authors. two categories (Non Fiction, Fiction).** "
      ]
    },
    {
      "cell_type": "markdown",
      "metadata": {
        "id": "hpbNBmVTvila"
      },
      "source": [
        "# More interesting questions"
      ]
    },
    {
      "cell_type": "code",
      "metadata": {
        "id": "hiSPq_mkBtJU",
        "colab": {
          "base_uri": "https://localhost:8080/"
        },
        "outputId": "0b437c99-dd42-417a-aed9-2a380e4eb1a9"
      },
      "source": [
        "from google.colab import files\n",
        "# bestsellers.to_csv('/content/drive/MyDrive/bestsellers_clean.csv') \n",
        "bestsellers_clean=pd.read_csv('/content/drive/MyDrive/bestsellers_clean.csv')\n",
        "bestsellers_clean.info()"
      ],
      "execution_count": 14,
      "outputs": [
        {
          "output_type": "stream",
          "text": [
            "<class 'pandas.core.frame.DataFrame'>\n",
            "RangeIndex: 351 entries, 0 to 350\n",
            "Data columns (total 7 columns):\n",
            " #   Column       Non-Null Count  Dtype  \n",
            "---  ------       --------------  -----  \n",
            " 0   Unnamed: 0   351 non-null    int64  \n",
            " 1   Name         351 non-null    object \n",
            " 2   Author       351 non-null    object \n",
            " 3   User Rating  351 non-null    float64\n",
            " 4   Reviews      351 non-null    int64  \n",
            " 5   Price        351 non-null    int64  \n",
            " 6   Genre        351 non-null    object \n",
            "dtypes: float64(1), int64(3), object(3)\n",
            "memory usage: 19.3+ KB\n"
          ],
          "name": "stdout"
        }
      ]
    },
    {
      "cell_type": "code",
      "metadata": {
        "id": "GVUEwQoSxQYz"
      },
      "source": [
        ""
      ],
      "execution_count": null,
      "outputs": []
    }
  ]
}